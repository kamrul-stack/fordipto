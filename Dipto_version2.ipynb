{
  "nbformat": 4,
  "nbformat_minor": 0,
  "metadata": {
    "colab": {
      "name": "Dipto_version2.ipynb",
      "provenance": [],
      "collapsed_sections": [],
      "authorship_tag": "ABX9TyN91US4gD5BFliT9ZtjW4PL",
      "include_colab_link": true
    },
    "kernelspec": {
      "name": "python3",
      "display_name": "Python 3"
    }
  },
  "cells": [
    {
      "cell_type": "markdown",
      "metadata": {
        "id": "view-in-github",
        "colab_type": "text"
      },
      "source": [
        "<a href=\"https://colab.research.google.com/github/kamrul-stack/fordipto/blob/master/Dipto_version2.ipynb\" target=\"_parent\"><img src=\"https://colab.research.google.com/assets/colab-badge.svg\" alt=\"Open In Colab\"/></a>"
      ]
    },
    {
      "cell_type": "code",
      "metadata": {
        "id": "y_V_kxGQvqcx",
        "colab_type": "code",
        "colab": {}
      },
      "source": [
        "import numpy as np # For matrix math\n",
        "import matplotlib.pyplot as plt # For plotting\n",
        "\n",
        "import sys # For printing"
      ],
      "execution_count": 1,
      "outputs": []
    },
    {
      "cell_type": "code",
      "metadata": {
        "id": "mtNxB-k6vsWD",
        "colab_type": "code",
        "colab": {}
      },
      "source": [
        "\n",
        "# The training data.\n",
        "X = np.array([\n",
        "    [0, 0],\n",
        "    [0, 1],\n",
        "    [1, 0],\n",
        "    [1, 1]\n",
        "])\n",
        "\n",
        "# The labels for the training data.\n",
        "y = np.array([\n",
        "    [0],\n",
        "    [1],\n",
        "    [1],\n",
        "    [0]\n",
        "])"
      ],
      "execution_count": 6,
      "outputs": []
    },
    {
      "cell_type": "code",
      "metadata": {
        "id": "8DEyWpoRvv4k",
        "colab_type": "code",
        "colab": {
          "base_uri": "https://localhost:8080/",
          "height": 87
        },
        "outputId": "75a3bd6c-4b7c-4c23-8198-b64129936cc3"
      },
      "source": [
        "X"
      ],
      "execution_count": 7,
      "outputs": [
        {
          "output_type": "execute_result",
          "data": {
            "text/plain": [
              "array([[0, 0],\n",
              "       [0, 1],\n",
              "       [1, 0],\n",
              "       [1, 1]])"
            ]
          },
          "metadata": {
            "tags": []
          },
          "execution_count": 7
        }
      ]
    },
    {
      "cell_type": "code",
      "metadata": {
        "id": "ra2lS6vgvxlD",
        "colab_type": "code",
        "colab": {
          "base_uri": "https://localhost:8080/",
          "height": 87
        },
        "outputId": "07e810f1-63d3-4006-cd19-ad300f43acce"
      },
      "source": [
        "y"
      ],
      "execution_count": 8,
      "outputs": [
        {
          "output_type": "execute_result",
          "data": {
            "text/plain": [
              "array([[0],\n",
              "       [1],\n",
              "       [1],\n",
              "       [0]])"
            ]
          },
          "metadata": {
            "tags": []
          },
          "execution_count": 8
        }
      ]
    },
    {
      "cell_type": "code",
      "metadata": {
        "id": "VJ9ls86Fvypy",
        "colab_type": "code",
        "colab": {}
      },
      "source": [
        "num_i_units = 2 # Number of Input units\n",
        "num_h_units = 2 # Number of Hidden units\n",
        "num_o_units = 1 # Number of Output units"
      ],
      "execution_count": 9,
      "outputs": []
    },
    {
      "cell_type": "code",
      "metadata": {
        "id": "wnAOynzqv1dU",
        "colab_type": "code",
        "colab": {}
      },
      "source": [
        "# The learning rate for Gradient Descent.\n",
        "learning_rate = 0.01\n",
        "\n",
        "# The parameter to help with overfitting.\n",
        "reg_param = 0\n",
        "\n",
        "# Maximum iterations for Gradient Descent.\n",
        "max_iter = 5000\n",
        "\n",
        "# Number of training examples\n",
        "m = 4"
      ],
      "execution_count": 10,
      "outputs": []
    },
    {
      "cell_type": "code",
      "metadata": {
        "id": "6cFIk0KBx8f3",
        "colab_type": "code",
        "colab": {}
      },
      "source": [
        "\n",
        "np.random.seed(1)\n",
        "W1 = np.random.normal(0, 1, (num_h_units, num_i_units)) # 2x2\n",
        "W2 = np.random.normal(0, 1, (num_o_units, num_h_units)) # 1x2\n",
        "\n",
        "B1 = np.random.random((num_h_units, 1)) # 2x1\n",
        "B2 = np.random.random((num_o_units, 1)) # 1x1"
      ],
      "execution_count": 11,
      "outputs": []
    },
    {
      "cell_type": "code",
      "metadata": {
        "id": "YyXSUYjHyJHy",
        "colab_type": "code",
        "colab": {
          "base_uri": "https://localhost:8080/",
          "height": 52
        },
        "outputId": "ac4a90f8-4417-4dc8-cf90-9f00527d07eb"
      },
      "source": [
        "W1"
      ],
      "execution_count": 12,
      "outputs": [
        {
          "output_type": "execute_result",
          "data": {
            "text/plain": [
              "array([[ 1.62434536, -0.61175641],\n",
              "       [-0.52817175, -1.07296862]])"
            ]
          },
          "metadata": {
            "tags": []
          },
          "execution_count": 12
        }
      ]
    },
    {
      "cell_type": "code",
      "metadata": {
        "id": "ZoxFf2MjyLcy",
        "colab_type": "code",
        "colab": {
          "base_uri": "https://localhost:8080/",
          "height": 34
        },
        "outputId": "382fd4f2-7923-41d0-c7f5-de3919f9ec68"
      },
      "source": [
        "W2"
      ],
      "execution_count": 13,
      "outputs": [
        {
          "output_type": "execute_result",
          "data": {
            "text/plain": [
              "array([[ 0.86540763, -2.3015387 ]])"
            ]
          },
          "metadata": {
            "tags": []
          },
          "execution_count": 13
        }
      ]
    },
    {
      "cell_type": "code",
      "metadata": {
        "id": "pL2uxSahyMCc",
        "colab_type": "code",
        "colab": {
          "base_uri": "https://localhost:8080/",
          "height": 52
        },
        "outputId": "efe264c6-bbed-4a1a-a49d-32b84ae601d5"
      },
      "source": [
        "B1"
      ],
      "execution_count": 14,
      "outputs": [
        {
          "output_type": "execute_result",
          "data": {
            "text/plain": [
              "array([[0.41919451],\n",
              "       [0.6852195 ]])"
            ]
          },
          "metadata": {
            "tags": []
          },
          "execution_count": 14
        }
      ]
    },
    {
      "cell_type": "code",
      "metadata": {
        "id": "KAxl7SHNyVtN",
        "colab_type": "code",
        "colab": {
          "base_uri": "https://localhost:8080/",
          "height": 34
        },
        "outputId": "fec6495a-53a0-46c4-e467-719551028a18"
      },
      "source": [
        "B2"
      ],
      "execution_count": 15,
      "outputs": [
        {
          "output_type": "execute_result",
          "data": {
            "text/plain": [
              "array([[0.20445225]])"
            ]
          },
          "metadata": {
            "tags": []
          },
          "execution_count": 15
        }
      ]
    },
    {
      "cell_type": "code",
      "metadata": {
        "id": "Py4D8CDjyWLq",
        "colab_type": "code",
        "colab": {}
      },
      "source": [
        "def sigmoid(z, derv=False):\n",
        "    if derv: return z * (1 - z)\n",
        "    return 1 / (1 + np.exp(-z))"
      ],
      "execution_count": 16,
      "outputs": []
    },
    {
      "cell_type": "code",
      "metadata": {
        "id": "5nMhdNOez0Fb",
        "colab_type": "code",
        "colab": {}
      },
      "source": [
        "def forward(x, predict=False):\n",
        "    a1 = x.reshape(x.shape[0], 1) # Getting the training example as a column vector.\n",
        "\n",
        "    z2 = W1.dot(a1) + B1 # 2x2 * 2x1 + 2x1 = 2x1\n",
        "    a2 = sigmoid(z2) # 2x1\n",
        "\n",
        "    z3 = W2.dot(a2) + B2 # 1x2 * 2x1 + 1x1 = 1x1\n",
        "    a3 = sigmoid(z3)\n",
        "\n",
        "    if predict: return a3\n",
        "    return (a1, a2, a3)\n"
      ],
      "execution_count": 18,
      "outputs": []
    },
    {
      "cell_type": "code",
      "metadata": {
        "id": "F79ulvgGz2v4",
        "colab_type": "code",
        "colab": {}
      },
      "source": [
        "dW1 = 0 # Gradient for W1\n",
        "dW2 = 0 # Gradient for W2\n",
        "\n",
        "dB1 = 0 # Gradient for B1\n",
        "dB2 = 0 # Gradient for B2\n",
        "\n",
        "cost = np.zeros((max_iter, 1)) # Column vector to record the cost of the NN after each Gradient Descent iteration."
      ],
      "execution_count": 19,
      "outputs": []
    },
    {
      "cell_type": "code",
      "metadata": {
        "id": "TDaCt79C0dIW",
        "colab_type": "code",
        "colab": {}
      },
      "source": [
        "def train(_W1, _W2, _B1, _B2): # The arguments are to bypass UnboundLocalError error\n",
        "    for i in range(max_iter):\n",
        "        c = 0\n",
        "        \n",
        "        dW1 = 0\n",
        "        dW2 = 0\n",
        "\n",
        "        dB1 = 0\n",
        "        dB2 = 0\n",
        "        \n",
        "        for j in range(m):\n",
        "            sys.stdout.write(\"\\rIteration: {} and {}\".format(i + 1, j + 1))\n",
        "\n",
        "            # Forward Prop.\n",
        "            a0 = X[j].reshape(X[j].shape[0], 1) # 2x1\n",
        "\n",
        "            z1 = _W1.dot(a0) + _B1 # 2x2 * 2x1 + 2x1 = 2x1\n",
        "            a1 = sigmoid(z1) # 2x1\n",
        "\n",
        "            z2 = _W2.dot(a1) + _B2 # 1x2 * 2x1 + 1x1 = 1x1\n",
        "            a2 = sigmoid(z2) # 1x1\n",
        "\n",
        "            # Back prop.\n",
        "            dz2 = a2 - y[j] # 1x1\n",
        "            dW2 += dz2 * a1.T # 1x1 .* 1x2 = 1x2\n",
        "\n",
        "            dz1 = np.multiply((_W2.T * dz2), sigmoid(a1, derv=True)) # (2x1 * 1x1) .* 2x1 = 2x1\n",
        "            dW1 += dz1.dot(a0.T) # 2x1 * 1x2 = 2x2\n",
        "\n",
        "            dB1 += dz1 # 2x1\n",
        "            dB2 += dz2 # 1x1\n",
        "\n",
        "            c = c + (-(y[j] * np.log(a2)) - ((1 - y[j]) * np.log(1 - a2)))\n",
        "            sys.stdout.flush() # Updating the text.\n",
        "        \n",
        "        _W1 = _W1 - learning_rate * (dW1 / m) + ( (reg_param / m) * _W1)\n",
        "        _W2 = _W2 - learning_rate * (dW2 / m) + ( (reg_param / m) * _W2)\n",
        "\n",
        "        _B1 = _B1 - learning_rate * (dB1 / m)\n",
        "        _B2 = _B2 - learning_rate * (dB2 / m)\n",
        "        cost[i] = (c / m) + ( \n",
        "            (reg_param / (2 * m)) * \n",
        "            (\n",
        "                np.sum(np.power(_W1, 2)) + \n",
        "                np.sum(np.power(_W2, 2))\n",
        "            )\n",
        "        )\n",
        "    return (_W1, _W2, _B1, _B2)"
      ],
      "execution_count": 20,
      "outputs": []
    },
    {
      "cell_type": "code",
      "metadata": {
        "id": "uzwWQipO0gAG",
        "colab_type": "code",
        "colab": {
          "base_uri": "https://localhost:8080/",
          "height": 34
        },
        "outputId": "633dade9-cdc4-4ec7-d764-b4a639fe8a7e"
      },
      "source": [
        "W1, W2, B1, B2 = train(W1, W2, B1, B2)"
      ],
      "execution_count": 21,
      "outputs": [
        {
          "output_type": "stream",
          "text": [
            "Iteration: 5000 and 4"
          ],
          "name": "stdout"
        }
      ]
    },
    {
      "cell_type": "code",
      "metadata": {
        "id": "k43Fu02H0ikE",
        "colab_type": "code",
        "colab": {
          "base_uri": "https://localhost:8080/",
          "height": 52
        },
        "outputId": "99ca2bbc-684d-4289-db50-9612301c591a"
      },
      "source": [
        "W1"
      ],
      "execution_count": 22,
      "outputs": [
        {
          "output_type": "execute_result",
          "data": {
            "text/plain": [
              "array([[ 1.32260643, -0.42332921],\n",
              "       [-1.4336158 , -1.67239068]])"
            ]
          },
          "metadata": {
            "tags": []
          },
          "execution_count": 22
        }
      ]
    },
    {
      "cell_type": "code",
      "metadata": {
        "id": "bLJssFGh1Ax9",
        "colab_type": "code",
        "colab": {
          "base_uri": "https://localhost:8080/",
          "height": 34
        },
        "outputId": "67052e6b-4690-428b-f842-8d8f20b5ce23"
      },
      "source": [
        "W2"
      ],
      "execution_count": 23,
      "outputs": [
        {
          "output_type": "execute_result",
          "data": {
            "text/plain": [
              "array([[ 0.25299514, -2.21317287]])"
            ]
          },
          "metadata": {
            "tags": []
          },
          "execution_count": 23
        }
      ]
    },
    {
      "cell_type": "code",
      "metadata": {
        "id": "d3t99lV51BtF",
        "colab_type": "code",
        "colab": {
          "base_uri": "https://localhost:8080/",
          "height": 52
        },
        "outputId": "243a2745-6351-4b54-b607-4a9417fc71ed"
      },
      "source": [
        "B1"
      ],
      "execution_count": 24,
      "outputs": [
        {
          "output_type": "execute_result",
          "data": {
            "text/plain": [
              "array([[ 0.37348207],\n",
              "       [-0.22080277]])"
            ]
          },
          "metadata": {
            "tags": []
          },
          "execution_count": 24
        }
      ]
    },
    {
      "cell_type": "code",
      "metadata": {
        "id": "epDeBbR51CLV",
        "colab_type": "code",
        "colab": {
          "base_uri": "https://localhost:8080/",
          "height": 34
        },
        "outputId": "f2ebd364-cda6-4c0e-c7d9-3e031b8ac75a"
      },
      "source": [
        "B2"
      ],
      "execution_count": 25,
      "outputs": [
        {
          "output_type": "execute_result",
          "data": {
            "text/plain": [
              "array([[0.24523225]])"
            ]
          },
          "metadata": {
            "tags": []
          },
          "execution_count": 25
        }
      ]
    },
    {
      "cell_type": "code",
      "metadata": {
        "id": "fq-J9LBm1DQU",
        "colab_type": "code",
        "colab": {
          "base_uri": "https://localhost:8080/",
          "height": 278
        },
        "outputId": "066c6cbd-7458-4d82-d77c-c0e9e95188e0"
      },
      "source": [
        "# Assigning the axes to the different elements.\n",
        "plt.plot(range(max_iter), cost)\n",
        "\n",
        "# Labelling the x axis as the iterations axis.\n",
        "plt.xlabel(\"Iterations\")\n",
        "\n",
        "# Labelling the y axis as the cost axis.\n",
        "plt.ylabel(\"Cost\")\n",
        "\n",
        "# Showing the plot.\n",
        "plt.show()"
      ],
      "execution_count": 26,
      "outputs": [
        {
          "output_type": "display_data",
          "data": {
            "image/png": "[encoded data removed]",
            "text/plain": [
              "<Figure size 432x288 with 1 Axes>"
            ]
          },
          "metadata": {
            "tags": [],
            "needs_background": "light"
          }
        }
      ]
    },
    {
      "cell_type": "code",
      "metadata": {
        "id": "OupOVpNH1HBW",
        "colab_type": "code",
        "colab": {}
      },
      "source": [
        ""
      ],
      "execution_count": null,
      "outputs": []
    }
  ]
}